{
 "cells": [
  {
   "metadata": {
    "ExecuteTime": {
     "end_time": "2024-07-31T12:51:40.828875Z",
     "start_time": "2024-07-31T12:51:23.471724Z"
    }
   },
   "cell_type": "code",
   "source": [
    "import plotly.graph_objects as go\n",
    "import plotly.io as pio\n",
    "import ipywidgets as widgets\n",
    "from IPython.display import display, HTML\n",
    "from indicators.indicadores_pedidos import OrderIndicators\n",
    "\n",
    "indicadores_pedidos = OrderIndicators('one-nfi-')\n",
    "data = indicadores_pedidos.get_total_orders().sum()\n",
    "data_billed = indicadores_pedidos.get_total_orders(is_billed=True).sum()\n",
    "\n",
    "\n",
    "# Função para criar um widget estilo KPI\n",
    "def create_kpi_widget(title, value, color):\n",
    "    formatted_value = f\"{value:,}\".replace(\",\", \".\")\n",
    "    title_html = f\"<h3 style='color: {color};'>{title}</h3>\"\n",
    "    value_html = f\"<h1 style='color: {color};'>{formatted_value}</h1>\"\n",
    "    return widgets.HTML(value=title_html + value_html)\n",
    "\n",
    "\n",
    "# Função para criar um widget estilo KPI\n",
    "def create_currency_kpi_widget(title, value, color):\n",
    "    title_html = f\"<h3 style='color: {color};'>{title}</h3>\"\n",
    "    value_html = f\"<h1 style='color: {color};'> R$ {value:,.2f}</h1>\"\n",
    "    return widgets.HTML(value=title_html + value_html)\n",
    "\n",
    "\n",
    "def create_sales_bar_chart(x_values, y_values, color):\n",
    "\n",
    "    fig = go.Figure(data=[go.Bar(x=x_values, y=y_values, marker_color=color)])\n",
    "    fig.update_layout(title='Vendas Mensais',\n",
    "                      xaxis_title='Mês',\n",
    "                      yaxis_title='Vendas (R$)',\n",
    "                      xaxis=dict(tickmode='linear'))\n",
    "\n",
    "    # Salvar o gráfico como HTML\n",
    "    fig_html = pio.to_html(fig, full_html=False)\n",
    "    return fig_html\n",
    "\n",
    "# Criando o widget para o gráfico de vendas\n",
    "sales_chart_html = create_sales_bar_chart()\n",
    "\n",
    "# Criando os widgets estilo KPI\n",
    "kpi1 = create_kpi_widget(\"Total de Pedidos\", data.qtd, \"teal\")\n",
    "kpi2 = create_currency_kpi_widget(\"Transacionado\", data.valor, \"teal\")\n",
    "kpi3 = create_currency_kpi_widget(\"Transacionado com taxa\", data.valor_com_taxa, \"teal\")\n",
    "\n",
    "kpi4 = create_kpi_widget(\"Total de Pedidos Faturados\", data_billed.qtd, \"teal\")\n",
    "kpi5 = create_currency_kpi_widget(\"Faturado\", data_billed.valor, \"teal\")\n",
    "kpi6 = create_currency_kpi_widget(\"Faturado com taxa\", data_billed.valor_com_taxa, \"teal\")\n",
    "\n",
    "\n",
    "# Criando um grid 2x3 para dispor os widgets\n",
    "grid = widgets.GridspecLayout(3, 3)\n",
    "\n",
    "# Adicionando os widgets ao grid\n",
    "grid[0, 0] = kpi1\n",
    "grid[0, 1] = kpi2\n",
    "grid[0, 2] = kpi3\n",
    "grid[1, 0] = kpi4\n",
    "grid[1, 1] = kpi5\n",
    "grid[1, 2] = kpi6\n",
    "grid[2, 0] = HTML(sales_chart_html)\n",
    "grid[2, 1] = HTML(sales_chart_html)\n",
    "grid[2, 2] = HTML(sales_chart_html)\n",
    "\n",
    "# Exibindo o grid\n",
    "display(grid)\n"
   ],
   "id": "52e80e929913d0fa",
   "outputs": [
    {
     "data": {
      "text/plain": [
       "GridspecLayout(children=(HTML(value=\"<h3 style='color: teal;'>Total de Pedidos</h3><h1 style='color: teal;'>2.…"
      ],
      "application/vnd.jupyter.widget-view+json": {
       "version_major": 2,
       "version_minor": 0,
       "model_id": "6dff478ea7e24e3b8f27ba7cb0f67ef9"
      }
     },
     "metadata": {},
     "output_type": "display_data"
    }
   ],
   "execution_count": 11
  },
  {
   "metadata": {},
   "cell_type": "code",
   "source": "",
   "id": "9e854f0568702ac9",
   "outputs": [],
   "execution_count": null
  }
 ],
 "metadata": {
  "kernelspec": {
   "display_name": "Python 3 (ipykernel)",
   "language": "python",
   "name": "python3"
  },
  "language_info": {
   "codemirror_mode": {
    "name": "ipython",
    "version": 3
   },
   "file_extension": ".py",
   "mimetype": "text/x-python",
   "name": "python",
   "nbconvert_exporter": "python",
   "pygments_lexer": "ipython3",
   "version": "3.11.9"
  }
 },
 "nbformat": 4,
 "nbformat_minor": 5
}
